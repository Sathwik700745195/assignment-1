{
  "nbformat": 4,
  "nbformat_minor": 0,
  "metadata": {
    "colab": {
      "provenance": [],
      "toc_visible": true,
      "authorship_tag": "ABX9TyNxPjGqZpgRdLvuQnJjm/qI",
      "include_colab_link": true
    },
    "kernelspec": {
      "name": "python3",
      "display_name": "Python 3"
    },
    "language_info": {
      "name": "python"
    }
  },
  "cells": [
    {
      "cell_type": "markdown",
      "metadata": {
        "id": "view-in-github",
        "colab_type": "text"
      },
      "source": [
        "<a href=\"https://colab.research.google.com/github/Sathwik700745195/assignment-1/blob/main/assignment%201.ipynb\" target=\"_parent\"><img src=\"https://colab.research.google.com/assets/colab-badge.svg\" alt=\"Open In Colab\"/></a>"
      ]
    },
    {
      "cell_type": "code",
      "execution_count": 1,
      "metadata": {
        "colab": {
          "base_uri": "https://localhost:8080/"
        },
        "id": "abDjf7ZFPKaP",
        "outputId": "1ad6f024-60b3-4238-aea1-8db88a0e3073"
      },
      "outputs": [
        {
          "output_type": "stream",
          "name": "stdout",
          "text": [
            "python\n",
            "noty\n"
          ]
        }
      ],
      "source": [
        "s=input()\n",
        "l=list(s)\n",
        "l.remove(\"p\")\n",
        "l.remove(\"h\")\n",
        "l=l[::-1]\n",
        "a=\"\"\n",
        "for i in l:\n",
        "  a=a+i\n",
        "print(a)"
      ]
    },
    {
      "cell_type": "code",
      "source": [
        "a=int(input())\n",
        "b=int(input())\n",
        "print(a,b)\n",
        "print(a+b)\n",
        "print(a-b)\n",
        "print(a*b)\n",
        "print(a%b)"
      ],
      "metadata": {
        "colab": {
          "base_uri": "https://localhost:8080/"
        },
        "id": "tHOveI-FTJ08",
        "outputId": "380910f5-f828-44b4-f326-1cf2320462f5"
      },
      "execution_count": 19,
      "outputs": [
        {
          "output_type": "stream",
          "name": "stdout",
          "text": [
            "10\n",
            "5\n",
            "10 5\n",
            "15\n",
            "5\n",
            "50\n",
            "0\n"
          ]
        }
      ]
    },
    {
      "cell_type": "code",
      "source": [
        "str=input()\n",
        "x=str.replace(\"python\",\"pythons\")\n",
        "print(x)"
      ],
      "metadata": {
        "colab": {
          "base_uri": "https://localhost:8080/"
        },
        "id": "4VGE5rdZUPfy",
        "outputId": "5827fc14-6b4e-4d7c-de69-8256a58f556e"
      },
      "execution_count": 20,
      "outputs": [
        {
          "output_type": "stream",
          "name": "stdout",
          "text": [
            "i like python\n",
            "i like pythons\n"
          ]
        }
      ]
    },
    {
      "cell_type": "code",
      "source": [
        "x=int(input(\"enter a value between 1 and 100: \"))\n",
        "if(x>90):\n",
        "    print(\"your grade is A\")\n",
        "elif(x<=90 and x>80):\n",
        "    print(\"your grade is B\")\n",
        "elif(x<=80 and x>70):\n",
        "    print(\"your grade is C\")\n",
        "elif(x<=70 and x>60):\n",
        "    print(\"your grade is D\")\n",
        "else:\n",
        "    print(\"your grade is F\")"
      ],
      "metadata": {
        "colab": {
          "base_uri": "https://localhost:8080/"
        },
        "id": "sO8k4_XNU0-w",
        "outputId": "714f084d-5aca-408f-acc0-e7647289ef37"
      },
      "execution_count": 21,
      "outputs": [
        {
          "output_type": "stream",
          "name": "stdout",
          "text": [
            "enter a value between 1 and 100: 70\n",
            "your grade is D\n"
          ]
        }
      ]
    }
  ]
}